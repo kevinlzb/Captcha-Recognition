{
 "cells": [
  {
   "cell_type": "code",
   "execution_count": 2,
   "metadata": {},
   "outputs": [],
   "source": [
    "from captcha.image import ImageCaptcha\n",
    "import numpy as np\n",
    "from PIL import Image\n",
    "import random \n",
    "import sys"
   ]
  },
  {
   "cell_type": "code",
   "execution_count": 3,
   "metadata": {},
   "outputs": [
    {
     "name": "stdout",
     "output_type": "stream",
     "text": [
      ">>Creating image 1000010000\n",
      "All done\n"
     ]
    }
   ],
   "source": [
    "number = ['0','1','2','3','4','5','6','7','8','9']\n",
    "\n",
    "def random_captcha_text(char_set=number,captcha_size=4):\n",
    "    captcha_text = []\n",
    "    for i in range(captcha_size):\n",
    "        #从一个list中随机选择一个数\n",
    "        c = random.choice(char_set)\n",
    "        captcha_text.append(c)\n",
    "    \n",
    "    return captcha_text\n",
    "\n",
    "#生成字符对应的验证码\n",
    "def gen_captcha_text_and_image():\n",
    "    image = ImageCaptcha()\n",
    "    captcha_text = random_captcha_text()\n",
    "    #把验证码列表转为字符串\n",
    "    captcha_text = ''.join(captcha_text)\n",
    "    captcha = image.generate(captcha_text)\n",
    "    image.write(captcha_text,'captcha/images/' + captcha_text + '.jpg')\n",
    "    \n",
    "num = 10000\n",
    "if __name__ == '__main__':\n",
    "    for i in range(num):\n",
    "        gen_captcha_text_and_image()\n",
    "        sys.stdout.write('\\r>>Creating image %d%d' % (i + 1,num))\n",
    "        sys.stdout.flush()\n",
    "    sys.stdout.write('\\n')\n",
    "    sys.stdout.flush()\n",
    "    \n",
    "    print (\"All done\")\n",
    "        "
   ]
  },
  {
   "cell_type": "code",
   "execution_count": null,
   "metadata": {},
   "outputs": [],
   "source": []
  }
 ],
 "metadata": {
  "kernelspec": {
   "display_name": "Python 2",
   "language": "python",
   "name": "python2"
  },
  "language_info": {
   "codemirror_mode": {
    "name": "ipython",
    "version": 2
   },
   "file_extension": ".py",
   "mimetype": "text/x-python",
   "name": "python",
   "nbconvert_exporter": "python",
   "pygments_lexer": "ipython2",
   "version": "2.7.10"
  }
 },
 "nbformat": 4,
 "nbformat_minor": 2
}
